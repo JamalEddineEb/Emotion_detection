{
 "cells": [
  {
   "cell_type": "markdown",
   "metadata": {
    "colab_type": "text",
    "id": "view-in-github"
   },
   "source": [
    "<a href=\"https://colab.research.google.com/github/AudePertron/AI_days_emotions/blob/main/Tuto_Emotions_Part1.ipynb\" target=\"_parent\"><img src=\"https://colab.research.google.com/assets/colab-badge.svg\" alt=\"Open In Colab\"/></a>"
   ]
  },
  {
   "cell_type": "markdown",
   "metadata": {
    "id": "Id7M4s_0dV2Y"
   },
   "source": [
    "# Reconnaissance des Emotions - 1/2"
   ]
  },
  {
   "cell_type": "markdown",
   "metadata": {
    "id": "9V83wDBcdV2y"
   },
   "source": [
    "## - Exploration des données et création des Datasets, \n",
    "\n",
    "## - Entraînement du modèle d'identification des émotions"
   ]
  },
  {
   "cell_type": "markdown",
   "metadata": {
    "id": "TR9yHPlgdV24"
   },
   "source": [
    "<hr>"
   ]
  },
  {
   "cell_type": "markdown",
   "metadata": {
    "id": "lv_LfjmbdV28"
   },
   "source": [
    "- <a href='#1'>Prévisualisation des données</a>\n",
    "- <a href='#2'>Création des datasets d'apprentissage et de test</a>\n",
    "- <a href='#3'>Préparation des données</a>\n",
    "- <a href='#4'>Entrainement du modèle de reconnaissance des émotions</a>\n",
    "- <a href='#5'>Résultats</a> "
   ]
  },
  {
   "cell_type": "markdown",
   "metadata": {
    "id": "JGfmFOIhdV2-"
   },
   "source": [
    "<hr>"
   ]
  },
  {
   "cell_type": "code",
   "execution_count": 6,
   "metadata": {
    "id": "Tl9h9r9kdV3A"
   },
   "outputs": [],
   "source": [
    "#préparation des imports (bibliothèques et librairies nécéssaires à l'éxécution du code)\n",
    "import os\n",
    "import sys\n",
    "import numpy as np\n",
    "import cv2\n",
    "import pickle\n",
    "import random\n",
    "\n",
    "from glob import glob\n",
    "\n",
    "from sklearn.metrics import accuracy_score, confusion_matrix\n",
    "\n",
    "import matplotlib\n",
    "import matplotlib.pyplot as plt\n",
    "\n",
    "import tensorflow as tf\n",
    "from tensorflow.keras import layers, models, optimizers\n",
    "from keras.layers import Conv2D, Dense, MaxPooling2D, Flatten, Dropout\n",
    "from keras.models import Sequential\n",
    "from tensorflow.keras.utils import to_categorical\n",
    "tf.random.set_seed(8449744397167270535)\n",
    "random.seed(8449744397167270535)"
   ]
  },
  {
   "cell_type": "markdown",
   "metadata": {
    "id": "BAy4kPv3dV3G"
   },
   "source": [
    "### <a id='1'>Prévisualisation des données</a>"
   ]
  },
  {
   "cell_type": "markdown",
   "metadata": {
    "id": "0OjiARaewGXd"
   },
   "source": [
    ">Si vous souhaitez exécuter ce notebook sur Google Colab (ce que nous vous conseillons), l'exécution des cellules suivantes vous permettra de cloner directement le repository GitHub, et d'extraire le ficher `.zip` de la data. N'oubliez pas d'activer l'option GPU de Colab : `Runtime/Change Runtime type` si vous utlisez Colab en anglais, ou `Execution/Modifier le type d'exécution` pour la version française, puis choisissez \"GPU\".\n",
    "\n",
    ">Vous pouvez bien sûr choisir d'exécuter les notebooks en local sur votre ordinateur, particulièrement si vous possédez un GPU. __Dans ce cas, il est inutile d'executer les 3 cellules suivantes.__"
   ]
  },
  {
   "cell_type": "code",
   "execution_count": 2,
   "metadata": {
    "colab": {
     "base_uri": "https://localhost:8080/"
    },
    "id": "raoGPn1vuO2E",
    "outputId": "dc568437-6409-46c9-d922-7e7f5ef6412a"
   },
   "outputs": [
    {
     "name": "stdout",
     "output_type": "stream",
     "text": [
      "Cloning into 'AI_days_emotions'...\n",
      "remote: Enumerating objects: 182, done.\u001b[K\n",
      "remote: Counting objects: 100% (182/182), done.\u001b[K\n",
      "remote: Compressing objects: 100% (166/166), done.\u001b[K\n",
      "remote: Total 182 (delta 80), reused 27 (delta 9), pack-reused 0\u001b[K\n",
      "Receiving objects: 100% (182/182), 36.58 MiB | 30.28 MiB/s, done.\n",
      "Resolving deltas: 100% (80/80), done.\n"
     ]
    }
   ],
   "source": [
    "!git clone https://github.com/AudePertron/AI_days_emotions.git"
   ]
  },
  {
   "cell_type": "code",
   "execution_count": 3,
   "metadata": {
    "colab": {
     "base_uri": "https://localhost:8080/"
    },
    "id": "Z4xjbmDGuK_A",
    "outputId": "cf69a31f-5d83-4b8c-e033-8ebfd2cae878"
   },
   "outputs": [
    {
     "name": "stdout",
     "output_type": "stream",
     "text": [
      "Extraction des données terminée\n"
     ]
    }
   ],
   "source": [
    "!unzip /content/AI_days_emotions/data/emotions.zip -d /content/AI_days_emotions/data &> /dev/null\n",
    "print(\"Extraction des données terminée\")"
   ]
  },
  {
   "cell_type": "code",
   "execution_count": 10,
   "metadata": {
    "colab": {
     "base_uri": "https://localhost:8080/"
    },
    "id": "z6UVFGGn0DqT",
    "outputId": "df6233b6-7513-4367-84f7-6a5014687277"
   },
   "outputs": [
    {
     "name": "stdout",
     "output_type": "stream",
     "text": [
      "/content/AI_days_emotions\n"
     ]
    }
   ],
   "source": [
    "%cd AI_days_emotions/"
   ]
  },
  {
   "cell_type": "markdown",
   "metadata": {
    "id": "fzhSXX11eBOu"
   },
   "source": [
    "Notre dossier Data contient l'ensemble des données, séparées en données d'entraînement et données de test, elles-mêmes divisées en sous-dossiers par émotions. Vous pouvez visualiser l'arborescence des dossiers grâce à l'icône \"Files\" à gauche de votre écran, dans le menu Colab.\n",
    "\n",
    "Chaque sous-dossier d'émotions contient des images en noir et blanc de 48*48 pixel.\n",
    "Nous allons commencer par créer nos datasets d'entrainement et de test, qui contiendront les données des images et leur label. Nous allons, dans ce temps qui précède l'entraînement du modèle :\n",
    "- récupérer la liste des labels (type d'émotion exprimé)\n",
    "- récupérer chaque image et son label, et la placer soit dnas le dataset d'entrainement, soit dans le dataset de test.\n",
    "- mélanger (randomisation) les images.\n",
    "- préparer les données, notamment :\n",
    "    - en normalisant les valeurs des pixels des images,\n",
    "    - en encodant les labels.\n",
    "- visualiser un extrait de notre dataset."
   ]
  },
  {
   "cell_type": "code",
   "execution_count": 8,
   "metadata": {
    "colab": {
     "base_uri": "https://localhost:8080/"
    },
    "id": "PKrBaQ3_dV3H",
    "outputId": "94dfd13e-9cbc-43ff-9a63-1fa9d7b9dfda"
   },
   "outputs": [
    {
     "name": "stdout",
     "output_type": "stream",
     "text": [
      "La liste 'tmp' contient les noms de chacun des dossiers. Les voici :\n",
      " - angry\n",
      " - surprise\n",
      " - sad\n",
      " - happy\n",
      "\n",
      "Il y a donc 4 classes :\n",
      "{0: 'angry', 1: 'surprise', 2: 'sad', 3: 'happy'}\n"
     ]
    }
   ],
   "source": [
    "#Nous accédons aux données depuis le dossier dans lequel elles sont stockées\n",
    "tmp = os.listdir(\"./data/train\") \n",
    "\n",
    "print(\"La liste 'tmp' contient les noms de chacun des dossiers. Les voici :\")\n",
    "print(\" -\", \"\\n - \".join(tmp))\n",
    "\n",
    "#On prépare les labels (noms des émotions) en les récupérant à partir des noms de dossier.\n",
    "#On prépare d'abord un dictionnaire qui contiendra les numéros et les noms des classes \n",
    "#en fonction des noms des dossiers.\n",
    "LABELS ={} \n",
    "for clas, feeling in enumerate(tmp): # on itère sur la liste tmp pour récupérer ces labels.\n",
    "    LABELS[clas]=feeling\n",
    "\n",
    "NUM_CLASS = len(tmp) # le nombre de classes correspond au nombre de dossiers\n",
    "\n",
    "print(\"\\nIl y a donc\", NUM_CLASS, \"classes :\")\n",
    "print(LABELS)"
   ]
  },
  {
   "cell_type": "code",
   "execution_count": 9,
   "metadata": {
    "colab": {
     "base_uri": "https://localhost:8080/"
    },
    "id": "S3eHSg27dV3N",
    "outputId": "6f2bd26f-2302-41d9-f538-ab54a6165db5"
   },
   "outputs": [
    {
     "name": "stdout",
     "output_type": "stream",
     "text": [
      "Nombre d'images de chaque classe dans le train set :\n",
      "[('angry', 3995), ('surprise', 3171), ('sad', 4830), ('happy', 7215)]\n",
      "Et dans le test set :\n",
      "[('angry', 958), ('surprise', 831), ('sad', 1247), ('happy', 1774)]\n"
     ]
    }
   ],
   "source": [
    "#nous indiquons l'emplacement des images, et créons une liste d'entraînement et une liste de test vides\n",
    "\n",
    "trainset = []\n",
    "for i in tmp: # on itère sur tmp pour parcourir chacun des 4 dossiers\n",
    "    chemin = \"./data/train/\"+i\n",
    "    img = glob(\"%s/*.jpg\" %chemin) # la fonction glob permet de récupérer tous les fichiers d'un dossier\n",
    "    img = [os.path.abspath(x) for x in img]\n",
    "    trainset.append(img)\n",
    "\n",
    "testset = []\n",
    "for i in tmp:\n",
    "    chemin = \"./data/test/\"+i\n",
    "    img = glob(\"%s/*.jpg\" %chemin)\n",
    "    img = [os.path.abspath(x) for x in img]\n",
    "    testset.append(img)\n",
    "\n",
    "#Nous affichons le nombre d'images par catégorie :\n",
    "print(\"Nombre d'images de chaque classe dans le train set :\")\n",
    "print([(LABELS[i], len(trainset[i])) for i in range(len(trainset))])\n",
    "print(\"Et dans le test set :\")\n",
    "print([(LABELS[i], len(testset[i])) for i in range(len(testset))])"
   ]
  },
  {
   "cell_type": "markdown",
   "metadata": {
    "id": "f9vHrBLLdV3Q"
   },
   "source": [
    "### <a id='2'>Création des datasets d'apprentissage et de test</a>"
   ]
  },
  {
   "cell_type": "markdown",
   "metadata": {
    "id": "RBojNF74gBXK"
   },
   "source": [
    "Nous créons les données d'entraînement. \n",
    "\n",
    "\n",
    "Notre objectif, plus communément appelé \"target\" et abrégé en \"y\" est le nom de l'émotion associée à chaque image, qu'on appellera \"label\". Il s'agit d'associer chaque y au X correspondant. Donc par exemple si `X[0]` correspond à une image d'une personne heureuse, `y[0]` sera égal à la variable \"happy\" (les noms de variables sont ici représentés par des chiffres, comme vu ci-dessus)\n"
   ]
  },
  {
   "cell_type": "code",
   "execution_count": 10,
   "metadata": {
    "id": "eeWXIzkedV3S"
   },
   "outputs": [],
   "source": [
    "# Nous créons la liste y_train (target sur les données d'entraînement)\n",
    "paths=[]\n",
    "y_train=[]\n",
    "\n",
    "for i in range(len(trainset)):\n",
    "    for j in range(len(trainset[i])):\n",
    "        paths.append(trainset[i][j])\n",
    "        y_train.append(i)"
   ]
  },
  {
   "cell_type": "markdown",
   "metadata": {
    "id": "YZ46Isbog1wB"
   },
   "source": [
    "Les données que nous devons analyser, appelées \"features\" et abrègées en \"X\", sont les images. Chaque image est représenté par une matrice de taille 48x48 (hauteur * largeur de l'image en pixel), dont les chaque valeur peut varier entre 0 et 255 suivant la valeur du pixel en niveaux de gris (0 représentant le noir et 255 le blanc). Dans le cas d'images de couleur, il y aurait trois matrices (appelées canaux) pour chacune des valeurs RGB (rouge, vert, bleu).\n",
    "\n",
    "Pour charger ces images sous forme de matrices d'entiers entre 0 et 255, nous utilisons le module `imread` de la bibliothèque `OpenCV` (`cv2`)."
   ]
  },
  {
   "cell_type": "code",
   "execution_count": 26,
   "metadata": {
    "id": "yensf8IZdV3c"
   },
   "outputs": [],
   "source": [
    "X_train=[]\n",
    "for p in paths:\n",
    "    X_train.append(cv2.imread(p, 0))"
   ]
  },
  {
   "cell_type": "markdown",
   "metadata": {
    "id": "O67rNeMUhM_Z"
   },
   "source": [
    "Préparons ensuite des données de test, de la même façon que les données d'entraînement. Ces données nous serviront à la fin de cet exercice à évaluer notre modèle, c'est à dire à vérifier que notre modèle fonctionne bien sur de nouvelles images, sur lesquelles il n'a pas été entrainé, et donc qu'il ne \"connaît\" pas."
   ]
  },
  {
   "cell_type": "code",
   "execution_count": 12,
   "metadata": {
    "id": "zXSPWcfMdV3d"
   },
   "outputs": [],
   "source": [
    "paths2=[]\n",
    "y_test=[]\n",
    "\n",
    "for i in range(len(testset)):\n",
    "    for j in range(len(testset[i])):\n",
    "        paths2.append(testset[i][j])\n",
    "        y_test.append(i)"
   ]
  },
  {
   "cell_type": "code",
   "execution_count": 13,
   "metadata": {
    "id": "RUBMIeyMdV3f"
   },
   "outputs": [],
   "source": [
    "X_test=[]\n",
    "for p in paths2:\n",
    "    X_test.append(cv2.imread(p, 0))"
   ]
  },
  {
   "cell_type": "markdown",
   "metadata": {
    "id": "X5j61ar7dV3f"
   },
   "source": [
    "### <a id='3'>Préparation des données</a>"
   ]
  },
  {
   "cell_type": "markdown",
   "metadata": {
    "id": "MlXvqG6OdV3g"
   },
   "source": [
    "#### Chargement des données"
   ]
  },
  {
   "cell_type": "markdown",
   "metadata": {
    "id": "bIr-z6bbiXC5"
   },
   "source": [
    "Nous allons maintenant visualiser une image du dataset ainsi que son label pour vérifier que tout fonctionne correctement. Nous affichons de façon arbitraire l'image numéro 42, n'hésitez pas à modifier cette variable si vous souhaitez visualiser d'autres images du dataset.\n",
    "Nous en profitons pour afficher la dimension de l'image. La longueur de X_train indique le nombre d'images contenu dans le dataset."
   ]
  },
  {
   "cell_type": "code",
   "execution_count": 14,
   "metadata": {
    "colab": {
     "base_uri": "https://localhost:8080/",
     "height": 299
    },
    "id": "zH1ocqKndV3i",
    "outputId": "6d32d956-132d-4332-9e04-c17c1ba52d31"
   },
   "outputs": [
    {
     "name": "stdout",
     "output_type": "stream",
     "text": [
      "Il y a 19211 images de (48, 48) pixels dans le dataset. \n",
      "Voici par exemple l'image n°42 :\n"
     ]
    },
    {
     "data": {
      "image/png": "[encoded data removed]",
      "text/plain": [
       "<Figure size 640x480 with 1 Axes>"
      ]
     },
     "metadata": {},
     "output_type": "display_data"
    }
   ],
   "source": [
    "plt.imshow(X_train[42], cmap=\"gray\")\n",
    "plt.axis(\"off\")\n",
    "print(f\"Il y a {len(X_train)} images de {X_train[42].shape} pixels dans le dataset.\\\n",
    " \\nVoici par exemple l'image n°42 :\")\n",
    "plt.title(LABELS[y_train[42]])\n",
    "plt.show()"
   ]
  },
  {
   "cell_type": "markdown",
   "metadata": {
    "id": "MP6QF4eBdV3j"
   },
   "source": [
    "#### Mélange des données"
   ]
  },
  {
   "cell_type": "markdown",
   "metadata": {
    "id": "GX3-ud7wjc51"
   },
   "source": [
    "Nous allons maintenant mélanger les données (comme si l'on mélangeait des cartes avant une partie) car elles sont pour l'instant classées dans l'ordre des émotions."
   ]
  },
  {
   "cell_type": "code",
   "execution_count": 15,
   "metadata": {
    "colab": {
     "base_uri": "https://localhost:8080/"
    },
    "id": "lSn6IgUPdV3n",
    "outputId": "668acd7d-a2a7-4b3a-d7e4-d655c05728a5"
   },
   "outputs": [
    {
     "name": "stdout",
     "output_type": "stream",
     "text": [
      "(19211, 48, 48)\n",
      "(19211,)\n"
     ]
    }
   ],
   "source": [
    "# pour l'entraînement\n",
    "# on crée un vecteur de nombres de allant de 0 à 1921 triés aléatoirement \n",
    "index = np.random.permutation([i for i in range(len(y_train))]) \n",
    "# on classe X_train et y_train suivant cet ordre aléatoire.\n",
    "X_train = np.asarray(X_train)[index] \n",
    "y_train = np.asarray(y_train)[index]\n",
    "print(X_train.shape)\n",
    "print(y_train.shape)"
   ]
  },
  {
   "cell_type": "code",
   "execution_count": 16,
   "metadata": {
    "colab": {
     "base_uri": "https://localhost:8080/"
    },
    "id": "BQn3i5ridV3u",
    "outputId": "6ccb06ca-2457-4dfd-a2e4-3fb40158f617"
   },
   "outputs": [
    {
     "name": "stdout",
     "output_type": "stream",
     "text": [
      "(4810, 48, 48)\n",
      "(4810,)\n"
     ]
    }
   ],
   "source": [
    "# pour les tests\n",
    "index2 = np.random.permutation([i for i in range(len(y_test))])\n",
    "\n",
    "X_test = np.asarray(X_test)[index2]\n",
    "y_test = np.asarray(y_test)[index2]\n",
    "print(X_test.shape)\n",
    "print(y_test.shape)"
   ]
  },
  {
   "cell_type": "markdown",
   "metadata": {
    "id": "3OOg_V3C6qTL"
   },
   "source": [
    "Visualisons maintenant quelques-une de ces images, par exemple les 15 premières, en affichant le label, afin de vérifier notre dataset avant de commencer l'entraînement."
   ]
  },
  {
   "cell_type": "code",
   "execution_count": 17,
   "metadata": {
    "colab": {
     "base_uri": "https://localhost:8080/",
     "height": 536
    },
    "id": "w38patmEdV3v",
    "outputId": "36a5545c-7713-4d93-d754-57181c61813b"
   },
   "outputs": [
    {
     "data": {
      "image/png": "[encoded data removed]",
      "text/plain": [
       "<Figure size 1500x900 with 15 Axes>"
      ]
     },
     "metadata": {},
     "output_type": "display_data"
    }
   ],
   "source": [
    "# visualisation\n",
    "plt.figure(figsize=(15,9))\n",
    "for i in range(15):\n",
    "    plt.subplot(3,5,i+1)\n",
    "    plt.imshow(np.uint8(X_train[i]), cmap='gray')\n",
    "    plt.title(LABELS[y_train[i]])\n",
    "    plt.axis('off')\n",
    "plt.show()"
   ]
  },
  {
   "cell_type": "markdown",
   "metadata": {
    "id": "On2wTgRgdV3w"
   },
   "source": [
    "#### Prétraitement en vue de l'entrainement avec un CNN Séquentiel "
   ]
  },
  {
   "cell_type": "markdown",
   "metadata": {
    "id": "zG16bqacjz62"
   },
   "source": [
    "Il s'agit de transformer les données dans le format attendu par l'algorithme. \n",
    "\n",
    "Il faut d'abord normaliser les données, c'est à dire transformer toutes les valeurs de pixels afin qu'elles soient comprises entre 0 et 1. Comme la valeur maximale d'un pixel est de 255, il suffit de diviser les valeurs par ce nombre. \n",
    "\n",
    "Puis nous donnons la \"forme\" attendue à notre matrice. Nous précisons le nombre de canaux de nos images : \"1\" pour une image en noir et blanc (\"3\", correspondant aux canaux rouge, vert,  bleu, pour une image en couleur)."
   ]
  },
  {
   "cell_type": "code",
   "execution_count": 18,
   "metadata": {
    "id": "NeH9f-kUdV3w"
   },
   "outputs": [],
   "source": [
    "# standardisation, redimensionnement des features\n",
    "X_train = X_train.astype('float') / 255\n",
    "X_test = X_test.astype('float') / 255\n",
    "X_train = X_train.reshape(len(X_train),48,48,1)\n",
    "X_test = X_test.reshape(len(X_test),48,48,1)"
   ]
  },
  {
   "cell_type": "markdown",
   "metadata": {
    "id": "ltmKEsdhknCi"
   },
   "source": [
    "Nous encodons également nos valeurs-cibles (targets) y. Plutôt qu'avoir des valeurs entre 0 et 4 correspondant à un numéro arbitraire, nous le transformons en une liste de 0 et de 1, le 1 correspondant à l'émotion représentée.\n",
    "\n",
    "Par exemple, dans le cas de la joie, qui était auparavant égale à 3, nous aurons :\n",
    "- avant : `y=1`\n",
    "- après : `Y=[0,1,0,0]`\n",
    "\n",
    "ou pour la tristesse:\n",
    "- avant : `y=3`\n",
    "- après : `Y=[0,0,1,0]`\n",
    "et ainsi de suite.\n",
    "\n",
    "Cela permet d'éviter des biais car l'algorihtme pourrait accorder une plus grande importance à une émotion dont la valeur est plus élevée (considérer qu'une émotion avec pour valeur 4 est plus importante qu'une émotion avec une valeur 0)."
   ]
  },
  {
   "cell_type": "code",
   "execution_count": 19,
   "metadata": {
    "id": "FfW3tAl1dV3x"
   },
   "outputs": [],
   "source": [
    "# catégorisation des target\n",
    "y_test.reshape(len(y_test),1)\n",
    "y_train.reshape(len(y_train),1)\n",
    "Y_train = to_categorical(y_train, num_classes=NUM_CLASS).astype(int)\n",
    "Y_test = to_categorical(y_test, num_classes=NUM_CLASS).astype(int)"
   ]
  },
  {
   "cell_type": "code",
   "execution_count": 20,
   "metadata": {
    "colab": {
     "base_uri": "https://localhost:8080/"
    },
    "id": "FthUptd0dV3z",
    "outputId": "43097273-2c7e-4264-ee2e-f1732d75b1e6"
   },
   "outputs": [
    {
     "name": "stdout",
     "output_type": "stream",
     "text": [
      "[0 0 0 1] 3 happy\n"
     ]
    }
   ],
   "source": [
    "# vérificationpour un élément au hasard du set d'entrainement\n",
    "print(Y_train[42], y_train[42], LABELS[y_train[42]]) "
   ]
  },
  {
   "cell_type": "code",
   "execution_count": 21,
   "metadata": {
    "colab": {
     "base_uri": "https://localhost:8080/"
    },
    "id": "lhotObL0dV30",
    "outputId": "ec68a3f1-3c0f-4d7a-ebf1-f83d6b8f4278"
   },
   "outputs": [
    {
     "name": "stdout",
     "output_type": "stream",
     "text": [
      "[1 0 0 0] 0 angry\n"
     ]
    }
   ],
   "source": [
    "# vérificationpour un élément au hasard du set de test\n",
    "print(Y_test[42], y_test[42], LABELS[y_test[42]]) #test"
   ]
  },
  {
   "cell_type": "markdown",
   "metadata": {
    "id": "pzVUiTo9dV33"
   },
   "source": [
    "### <a id='4'>Entrainement du modèle de reconnaissance des émotions</a>"
   ]
  },
  {
   "cell_type": "markdown",
   "metadata": {
    "id": "8sB17LhtdV37"
   },
   "source": [
    "#### Création du modèle séquentiel"
   ]
  },
  {
   "cell_type": "markdown",
   "metadata": {
    "id": "Qr5d_nCBdV38"
   },
   "source": [
    "Nous allons maintenant appliquer un réseau de neurones convolutif sur nos données. Le temps d'entraînement peut être long, aussi, __pour gagner du temps, nous vous proposons de télécharger notre modèle préentraîné par la suite__, mais à nouveau, si en vous avez le temps, vous êtes libres d'éxécuter le modèle tel quel, voir même de jouer avec les paramètres pour le modifier !\n",
    "\n",
    "Ce modèle est composé de 15 couches de neurones. En modifiant ses paramètres vous pourriez obtenir des résultats très différents (peut-être meilleurs que les nôtres !).\n",
    "\n",
    "<br>\n",
    "\n",
    "Il vous faudra environ 10 à 15 minutes minutes pour entraîner le modèle proposé. Pendant ce temps, n'hésitez pas à nous poser vos questions ! "
   ]
  },
  {
   "cell_type": "code",
   "execution_count": 22,
   "metadata": {
    "id": "BcNTtTZxdV3-"
   },
   "outputs": [
    {
     "name": "stderr",
     "output_type": "stream",
     "text": [
      "/home/jamal/si5/conniassances/.venv/lib/python3.12/site-packages/keras/src/layers/convolutional/base_conv.py:107: UserWarning: Do not pass an `input_shape`/`input_dim` argument to a layer. When using Sequential models, prefer using an `Input(shape)` object as the first layer in the model instead.\n",
      "  super().__init__(activity_regularizer=activity_regularizer, **kwargs)\n",
      "2024-11-27 08:36:43.653087: E external/local_xla/xla/stream_executor/cuda/cuda_driver.cc:152] failed call to cuInit: INTERNAL: CUDA error: Failed call to cuInit: CUDA_ERROR_UNKNOWN: unknown error\n",
      "2024-11-27 08:36:43.653122: I external/local_xla/xla/stream_executor/cuda/cuda_diagnostics.cc:137] retrieving CUDA diagnostic information for host: pc\n",
      "2024-11-27 08:36:43.653128: I external/local_xla/xla/stream_executor/cuda/cuda_diagnostics.cc:144] hostname: pc\n",
      "2024-11-27 08:36:43.653295: I external/local_xla/xla/stream_executor/cuda/cuda_diagnostics.cc:168] libcuda reported version is: 560.35.3\n",
      "2024-11-27 08:36:43.653320: I external/local_xla/xla/stream_executor/cuda/cuda_diagnostics.cc:172] kernel reported version is: 560.35.3\n",
      "2024-11-27 08:36:43.653325: I external/local_xla/xla/stream_executor/cuda/cuda_diagnostics.cc:259] kernel version seems to match DSO: 560.35.3\n"
     ]
    }
   ],
   "source": [
    "### nous avons construit le modèle suivant, c'est celui qui sera fourni pour la suite de l'exercice\n",
    "### Libre à vous de le modifier et de créer votre propre modèle !\n",
    "\n",
    "modelX = models.Sequential()\n",
    "\n",
    "modelX.add(Conv2D(64, 7, padding=\"same\", activation='relu', input_shape=(48,48,1)))\n",
    "modelX.add(MaxPooling2D(2))\n",
    "modelX.add(Dropout(0.5))\n",
    "modelX.add(Conv2D(64, 3, padding=\"same\", activation='relu'))\n",
    "modelX.add(MaxPooling2D(2))\n",
    "modelX.add(Dropout(0.5))\n",
    "modelX.add(Conv2D(128, 3, padding=\"same\", activation='relu'))\n",
    "modelX.add(MaxPooling2D(2))\n",
    "modelX.add(Dropout(0.5))\n",
    "modelX.add(Flatten())\n",
    "modelX.add(Dense(64, activation=\"relu\"))\n",
    "modelX.add(Dropout(0.25))\n",
    "modelX.add(Dense(32, activation=\"relu\"))\n",
    "modelX.add(Dropout(0.25))\n",
    "modelX.add(Dense(NUM_CLASS, activation='softmax'))"
   ]
  },
  {
   "cell_type": "code",
   "execution_count": 23,
   "metadata": {
    "id": "EYYiXmrIdV3-"
   },
   "outputs": [],
   "source": [
    "# compilation pour un premier entraînement avec l'optimizer Adamax\n",
    "modelX.compile(optimizer=optimizers.Adamax(learning_rate=0.001), loss='categorical_crossentropy', metrics=['accuracy'])"
   ]
  },
  {
   "cell_type": "code",
   "execution_count": 24,
   "metadata": {
    "id": "VPW2HbeodV3_"
   },
   "outputs": [
    {
     "name": "stdout",
     "output_type": "stream",
     "text": [
      "Epoch 1/40\n",
      "\u001b[1m2053/3074\u001b[0m \u001b[32m━━━━━━━━━━━━━\u001b[0m\u001b[37m━━━━━━━\u001b[0m \u001b[1m15s\u001b[0m 15ms/step - accuracy: 0.3530 - loss: 1.3657"
     ]
    },
    {
     "ename": "KeyboardInterrupt",
     "evalue": "",
     "output_type": "error",
     "traceback": [
      "\u001b[0;31m---------------------------------------------------------------------------\u001b[0m",
      "\u001b[0;31mKeyboardInterrupt\u001b[0m                         Traceback (most recent call last)",
      "Cell \u001b[0;32mIn[24], line 3\u001b[0m\n\u001b[1;32m      1\u001b[0m \u001b[38;5;66;03m### décommentez la ligne suivante si vous voulez entraîner votre propre modèle\u001b[39;00m\n\u001b[0;32m----> 3\u001b[0m history \u001b[38;5;241m=\u001b[39m \u001b[43mmodelX\u001b[49m\u001b[38;5;241;43m.\u001b[39;49m\u001b[43mfit\u001b[49m\u001b[43m(\u001b[49m\u001b[43mX_train\u001b[49m\u001b[43m,\u001b[49m\u001b[43m \u001b[49m\u001b[43mY_train\u001b[49m\u001b[43m,\u001b[49m\u001b[43m \u001b[49m\u001b[43mepochs\u001b[49m\u001b[38;5;241;43m=\u001b[39;49m\u001b[38;5;241;43m40\u001b[39;49m\u001b[43m,\u001b[49m\u001b[43m \u001b[49m\u001b[43mbatch_size\u001b[49m\u001b[38;5;241;43m=\u001b[39;49m\u001b[38;5;241;43m5\u001b[39;49m\u001b[43m,\u001b[49m\u001b[43m \u001b[49m\u001b[43mvalidation_split\u001b[49m\u001b[38;5;241;43m=\u001b[39;49m\u001b[38;5;241;43m0.2\u001b[39;49m\u001b[43m)\u001b[49m\n",
      "File \u001b[0;32m~/si5/conniassances/.venv/lib/python3.12/site-packages/keras/src/utils/traceback_utils.py:117\u001b[0m, in \u001b[0;36mfilter_traceback.<locals>.error_handler\u001b[0;34m(*args, **kwargs)\u001b[0m\n\u001b[1;32m    115\u001b[0m filtered_tb \u001b[38;5;241m=\u001b[39m \u001b[38;5;28;01mNone\u001b[39;00m\n\u001b[1;32m    116\u001b[0m \u001b[38;5;28;01mtry\u001b[39;00m:\n\u001b[0;32m--> 117\u001b[0m     \u001b[38;5;28;01mreturn\u001b[39;00m \u001b[43mfn\u001b[49m\u001b[43m(\u001b[49m\u001b[38;5;241;43m*\u001b[39;49m\u001b[43margs\u001b[49m\u001b[43m,\u001b[49m\u001b[43m \u001b[49m\u001b[38;5;241;43m*\u001b[39;49m\u001b[38;5;241;43m*\u001b[39;49m\u001b[43mkwargs\u001b[49m\u001b[43m)\u001b[49m\n\u001b[1;32m    118\u001b[0m \u001b[38;5;28;01mexcept\u001b[39;00m \u001b[38;5;167;01mException\u001b[39;00m \u001b[38;5;28;01mas\u001b[39;00m e:\n\u001b[1;32m    119\u001b[0m     filtered_tb \u001b[38;5;241m=\u001b[39m _process_traceback_frames(e\u001b[38;5;241m.\u001b[39m__traceback__)\n",
      "File \u001b[0;32m~/si5/conniassances/.venv/lib/python3.12/site-packages/keras/src/backend/tensorflow/trainer.py:368\u001b[0m, in \u001b[0;36mTensorFlowTrainer.fit\u001b[0;34m(self, x, y, batch_size, epochs, verbose, callbacks, validation_split, validation_data, shuffle, class_weight, sample_weight, initial_epoch, steps_per_epoch, validation_steps, validation_batch_size, validation_freq)\u001b[0m\n\u001b[1;32m    366\u001b[0m \u001b[38;5;28;01mfor\u001b[39;00m step, iterator \u001b[38;5;129;01min\u001b[39;00m epoch_iterator:\n\u001b[1;32m    367\u001b[0m     callbacks\u001b[38;5;241m.\u001b[39mon_train_batch_begin(step)\n\u001b[0;32m--> 368\u001b[0m     logs \u001b[38;5;241m=\u001b[39m \u001b[38;5;28;43mself\u001b[39;49m\u001b[38;5;241;43m.\u001b[39;49m\u001b[43mtrain_function\u001b[49m\u001b[43m(\u001b[49m\u001b[43miterator\u001b[49m\u001b[43m)\u001b[49m\n\u001b[1;32m    369\u001b[0m     callbacks\u001b[38;5;241m.\u001b[39mon_train_batch_end(step, logs)\n\u001b[1;32m    370\u001b[0m     \u001b[38;5;28;01mif\u001b[39;00m \u001b[38;5;28mself\u001b[39m\u001b[38;5;241m.\u001b[39mstop_training:\n",
      "File \u001b[0;32m~/si5/conniassances/.venv/lib/python3.12/site-packages/keras/src/backend/tensorflow/trainer.py:216\u001b[0m, in \u001b[0;36mTensorFlowTrainer._make_function.<locals>.function\u001b[0;34m(iterator)\u001b[0m\n\u001b[1;32m    212\u001b[0m \u001b[38;5;28;01mdef\u001b[39;00m \u001b[38;5;21mfunction\u001b[39m(iterator):\n\u001b[1;32m    213\u001b[0m     \u001b[38;5;28;01mif\u001b[39;00m \u001b[38;5;28misinstance\u001b[39m(\n\u001b[1;32m    214\u001b[0m         iterator, (tf\u001b[38;5;241m.\u001b[39mdata\u001b[38;5;241m.\u001b[39mIterator, tf\u001b[38;5;241m.\u001b[39mdistribute\u001b[38;5;241m.\u001b[39mDistributedIterator)\n\u001b[1;32m    215\u001b[0m     ):\n\u001b[0;32m--> 216\u001b[0m         opt_outputs \u001b[38;5;241m=\u001b[39m \u001b[43mmulti_step_on_iterator\u001b[49m\u001b[43m(\u001b[49m\u001b[43miterator\u001b[49m\u001b[43m)\u001b[49m\n\u001b[1;32m    217\u001b[0m         \u001b[38;5;28;01mif\u001b[39;00m \u001b[38;5;129;01mnot\u001b[39;00m opt_outputs\u001b[38;5;241m.\u001b[39mhas_value():\n\u001b[1;32m    218\u001b[0m             \u001b[38;5;28;01mraise\u001b[39;00m \u001b[38;5;167;01mStopIteration\u001b[39;00m\n",
      "File \u001b[0;32m~/si5/conniassances/.venv/lib/python3.12/site-packages/tensorflow/python/util/traceback_utils.py:150\u001b[0m, in \u001b[0;36mfilter_traceback.<locals>.error_handler\u001b[0;34m(*args, **kwargs)\u001b[0m\n\u001b[1;32m    148\u001b[0m filtered_tb \u001b[38;5;241m=\u001b[39m \u001b[38;5;28;01mNone\u001b[39;00m\n\u001b[1;32m    149\u001b[0m \u001b[38;5;28;01mtry\u001b[39;00m:\n\u001b[0;32m--> 150\u001b[0m   \u001b[38;5;28;01mreturn\u001b[39;00m \u001b[43mfn\u001b[49m\u001b[43m(\u001b[49m\u001b[38;5;241;43m*\u001b[39;49m\u001b[43margs\u001b[49m\u001b[43m,\u001b[49m\u001b[43m \u001b[49m\u001b[38;5;241;43m*\u001b[39;49m\u001b[38;5;241;43m*\u001b[39;49m\u001b[43mkwargs\u001b[49m\u001b[43m)\u001b[49m\n\u001b[1;32m    151\u001b[0m \u001b[38;5;28;01mexcept\u001b[39;00m \u001b[38;5;167;01mException\u001b[39;00m \u001b[38;5;28;01mas\u001b[39;00m e:\n\u001b[1;32m    152\u001b[0m   filtered_tb \u001b[38;5;241m=\u001b[39m _process_traceback_frames(e\u001b[38;5;241m.\u001b[39m__traceback__)\n",
      "File \u001b[0;32m~/si5/conniassances/.venv/lib/python3.12/site-packages/tensorflow/python/eager/polymorphic_function/polymorphic_function.py:833\u001b[0m, in \u001b[0;36mFunction.__call__\u001b[0;34m(self, *args, **kwds)\u001b[0m\n\u001b[1;32m    830\u001b[0m compiler \u001b[38;5;241m=\u001b[39m \u001b[38;5;124m\"\u001b[39m\u001b[38;5;124mxla\u001b[39m\u001b[38;5;124m\"\u001b[39m \u001b[38;5;28;01mif\u001b[39;00m \u001b[38;5;28mself\u001b[39m\u001b[38;5;241m.\u001b[39m_jit_compile \u001b[38;5;28;01melse\u001b[39;00m \u001b[38;5;124m\"\u001b[39m\u001b[38;5;124mnonXla\u001b[39m\u001b[38;5;124m\"\u001b[39m\n\u001b[1;32m    832\u001b[0m \u001b[38;5;28;01mwith\u001b[39;00m OptionalXlaContext(\u001b[38;5;28mself\u001b[39m\u001b[38;5;241m.\u001b[39m_jit_compile):\n\u001b[0;32m--> 833\u001b[0m   result \u001b[38;5;241m=\u001b[39m \u001b[38;5;28;43mself\u001b[39;49m\u001b[38;5;241;43m.\u001b[39;49m\u001b[43m_call\u001b[49m\u001b[43m(\u001b[49m\u001b[38;5;241;43m*\u001b[39;49m\u001b[43margs\u001b[49m\u001b[43m,\u001b[49m\u001b[43m \u001b[49m\u001b[38;5;241;43m*\u001b[39;49m\u001b[38;5;241;43m*\u001b[39;49m\u001b[43mkwds\u001b[49m\u001b[43m)\u001b[49m\n\u001b[1;32m    835\u001b[0m new_tracing_count \u001b[38;5;241m=\u001b[39m \u001b[38;5;28mself\u001b[39m\u001b[38;5;241m.\u001b[39mexperimental_get_tracing_count()\n\u001b[1;32m    836\u001b[0m without_tracing \u001b[38;5;241m=\u001b[39m (tracing_count \u001b[38;5;241m==\u001b[39m new_tracing_count)\n",
      "File \u001b[0;32m~/si5/conniassances/.venv/lib/python3.12/site-packages/tensorflow/python/eager/polymorphic_function/polymorphic_function.py:878\u001b[0m, in \u001b[0;36mFunction._call\u001b[0;34m(self, *args, **kwds)\u001b[0m\n\u001b[1;32m    875\u001b[0m \u001b[38;5;28mself\u001b[39m\u001b[38;5;241m.\u001b[39m_lock\u001b[38;5;241m.\u001b[39mrelease()\n\u001b[1;32m    876\u001b[0m \u001b[38;5;66;03m# In this case we have not created variables on the first call. So we can\u001b[39;00m\n\u001b[1;32m    877\u001b[0m \u001b[38;5;66;03m# run the first trace but we should fail if variables are created.\u001b[39;00m\n\u001b[0;32m--> 878\u001b[0m results \u001b[38;5;241m=\u001b[39m \u001b[43mtracing_compilation\u001b[49m\u001b[38;5;241;43m.\u001b[39;49m\u001b[43mcall_function\u001b[49m\u001b[43m(\u001b[49m\n\u001b[1;32m    879\u001b[0m \u001b[43m    \u001b[49m\u001b[43margs\u001b[49m\u001b[43m,\u001b[49m\u001b[43m \u001b[49m\u001b[43mkwds\u001b[49m\u001b[43m,\u001b[49m\u001b[43m \u001b[49m\u001b[38;5;28;43mself\u001b[39;49m\u001b[38;5;241;43m.\u001b[39;49m\u001b[43m_variable_creation_config\u001b[49m\n\u001b[1;32m    880\u001b[0m \u001b[43m\u001b[49m\u001b[43m)\u001b[49m\n\u001b[1;32m    881\u001b[0m \u001b[38;5;28;01mif\u001b[39;00m \u001b[38;5;28mself\u001b[39m\u001b[38;5;241m.\u001b[39m_created_variables:\n\u001b[1;32m    882\u001b[0m   \u001b[38;5;28;01mraise\u001b[39;00m \u001b[38;5;167;01mValueError\u001b[39;00m(\u001b[38;5;124m\"\u001b[39m\u001b[38;5;124mCreating variables on a non-first call to a function\u001b[39m\u001b[38;5;124m\"\u001b[39m\n\u001b[1;32m    883\u001b[0m                    \u001b[38;5;124m\"\u001b[39m\u001b[38;5;124m decorated with tf.function.\u001b[39m\u001b[38;5;124m\"\u001b[39m)\n",
      "File \u001b[0;32m~/si5/conniassances/.venv/lib/python3.12/site-packages/tensorflow/python/eager/polymorphic_function/tracing_compilation.py:139\u001b[0m, in \u001b[0;36mcall_function\u001b[0;34m(args, kwargs, tracing_options)\u001b[0m\n\u001b[1;32m    137\u001b[0m bound_args \u001b[38;5;241m=\u001b[39m function\u001b[38;5;241m.\u001b[39mfunction_type\u001b[38;5;241m.\u001b[39mbind(\u001b[38;5;241m*\u001b[39margs, \u001b[38;5;241m*\u001b[39m\u001b[38;5;241m*\u001b[39mkwargs)\n\u001b[1;32m    138\u001b[0m flat_inputs \u001b[38;5;241m=\u001b[39m function\u001b[38;5;241m.\u001b[39mfunction_type\u001b[38;5;241m.\u001b[39munpack_inputs(bound_args)\n\u001b[0;32m--> 139\u001b[0m \u001b[38;5;28;01mreturn\u001b[39;00m \u001b[43mfunction\u001b[49m\u001b[38;5;241;43m.\u001b[39;49m\u001b[43m_call_flat\u001b[49m\u001b[43m(\u001b[49m\u001b[43m  \u001b[49m\u001b[38;5;66;43;03m# pylint: disable=protected-access\u001b[39;49;00m\n\u001b[1;32m    140\u001b[0m \u001b[43m    \u001b[49m\u001b[43mflat_inputs\u001b[49m\u001b[43m,\u001b[49m\u001b[43m \u001b[49m\u001b[43mcaptured_inputs\u001b[49m\u001b[38;5;241;43m=\u001b[39;49m\u001b[43mfunction\u001b[49m\u001b[38;5;241;43m.\u001b[39;49m\u001b[43mcaptured_inputs\u001b[49m\n\u001b[1;32m    141\u001b[0m \u001b[43m\u001b[49m\u001b[43m)\u001b[49m\n",
      "File \u001b[0;32m~/si5/conniassances/.venv/lib/python3.12/site-packages/tensorflow/python/eager/polymorphic_function/concrete_function.py:1322\u001b[0m, in \u001b[0;36mConcreteFunction._call_flat\u001b[0;34m(self, tensor_inputs, captured_inputs)\u001b[0m\n\u001b[1;32m   1318\u001b[0m possible_gradient_type \u001b[38;5;241m=\u001b[39m gradients_util\u001b[38;5;241m.\u001b[39mPossibleTapeGradientTypes(args)\n\u001b[1;32m   1319\u001b[0m \u001b[38;5;28;01mif\u001b[39;00m (possible_gradient_type \u001b[38;5;241m==\u001b[39m gradients_util\u001b[38;5;241m.\u001b[39mPOSSIBLE_GRADIENT_TYPES_NONE\n\u001b[1;32m   1320\u001b[0m     \u001b[38;5;129;01mand\u001b[39;00m executing_eagerly):\n\u001b[1;32m   1321\u001b[0m   \u001b[38;5;66;03m# No tape is watching; skip to running the function.\u001b[39;00m\n\u001b[0;32m-> 1322\u001b[0m   \u001b[38;5;28;01mreturn\u001b[39;00m \u001b[38;5;28;43mself\u001b[39;49m\u001b[38;5;241;43m.\u001b[39;49m\u001b[43m_inference_function\u001b[49m\u001b[38;5;241;43m.\u001b[39;49m\u001b[43mcall_preflattened\u001b[49m\u001b[43m(\u001b[49m\u001b[43margs\u001b[49m\u001b[43m)\u001b[49m\n\u001b[1;32m   1323\u001b[0m forward_backward \u001b[38;5;241m=\u001b[39m \u001b[38;5;28mself\u001b[39m\u001b[38;5;241m.\u001b[39m_select_forward_and_backward_functions(\n\u001b[1;32m   1324\u001b[0m     args,\n\u001b[1;32m   1325\u001b[0m     possible_gradient_type,\n\u001b[1;32m   1326\u001b[0m     executing_eagerly)\n\u001b[1;32m   1327\u001b[0m forward_function, args_with_tangents \u001b[38;5;241m=\u001b[39m forward_backward\u001b[38;5;241m.\u001b[39mforward()\n",
      "File \u001b[0;32m~/si5/conniassances/.venv/lib/python3.12/site-packages/tensorflow/python/eager/polymorphic_function/atomic_function.py:216\u001b[0m, in \u001b[0;36mAtomicFunction.call_preflattened\u001b[0;34m(self, args)\u001b[0m\n\u001b[1;32m    214\u001b[0m \u001b[38;5;28;01mdef\u001b[39;00m \u001b[38;5;21mcall_preflattened\u001b[39m(\u001b[38;5;28mself\u001b[39m, args: Sequence[core\u001b[38;5;241m.\u001b[39mTensor]) \u001b[38;5;241m-\u001b[39m\u001b[38;5;241m>\u001b[39m Any:\n\u001b[1;32m    215\u001b[0m \u001b[38;5;250m  \u001b[39m\u001b[38;5;124;03m\"\"\"Calls with flattened tensor inputs and returns the structured output.\"\"\"\u001b[39;00m\n\u001b[0;32m--> 216\u001b[0m   flat_outputs \u001b[38;5;241m=\u001b[39m \u001b[38;5;28;43mself\u001b[39;49m\u001b[38;5;241;43m.\u001b[39;49m\u001b[43mcall_flat\u001b[49m\u001b[43m(\u001b[49m\u001b[38;5;241;43m*\u001b[39;49m\u001b[43margs\u001b[49m\u001b[43m)\u001b[49m\n\u001b[1;32m    217\u001b[0m   \u001b[38;5;28;01mreturn\u001b[39;00m \u001b[38;5;28mself\u001b[39m\u001b[38;5;241m.\u001b[39mfunction_type\u001b[38;5;241m.\u001b[39mpack_output(flat_outputs)\n",
      "File \u001b[0;32m~/si5/conniassances/.venv/lib/python3.12/site-packages/tensorflow/python/eager/polymorphic_function/atomic_function.py:251\u001b[0m, in \u001b[0;36mAtomicFunction.call_flat\u001b[0;34m(self, *args)\u001b[0m\n\u001b[1;32m    249\u001b[0m \u001b[38;5;28;01mwith\u001b[39;00m record\u001b[38;5;241m.\u001b[39mstop_recording():\n\u001b[1;32m    250\u001b[0m   \u001b[38;5;28;01mif\u001b[39;00m \u001b[38;5;28mself\u001b[39m\u001b[38;5;241m.\u001b[39m_bound_context\u001b[38;5;241m.\u001b[39mexecuting_eagerly():\n\u001b[0;32m--> 251\u001b[0m     outputs \u001b[38;5;241m=\u001b[39m \u001b[38;5;28;43mself\u001b[39;49m\u001b[38;5;241;43m.\u001b[39;49m\u001b[43m_bound_context\u001b[49m\u001b[38;5;241;43m.\u001b[39;49m\u001b[43mcall_function\u001b[49m\u001b[43m(\u001b[49m\n\u001b[1;32m    252\u001b[0m \u001b[43m        \u001b[49m\u001b[38;5;28;43mself\u001b[39;49m\u001b[38;5;241;43m.\u001b[39;49m\u001b[43mname\u001b[49m\u001b[43m,\u001b[49m\n\u001b[1;32m    253\u001b[0m \u001b[43m        \u001b[49m\u001b[38;5;28;43mlist\u001b[39;49m\u001b[43m(\u001b[49m\u001b[43margs\u001b[49m\u001b[43m)\u001b[49m\u001b[43m,\u001b[49m\n\u001b[1;32m    254\u001b[0m \u001b[43m        \u001b[49m\u001b[38;5;28;43mlen\u001b[39;49m\u001b[43m(\u001b[49m\u001b[38;5;28;43mself\u001b[39;49m\u001b[38;5;241;43m.\u001b[39;49m\u001b[43mfunction_type\u001b[49m\u001b[38;5;241;43m.\u001b[39;49m\u001b[43mflat_outputs\u001b[49m\u001b[43m)\u001b[49m\u001b[43m,\u001b[49m\n\u001b[1;32m    255\u001b[0m \u001b[43m    \u001b[49m\u001b[43m)\u001b[49m\n\u001b[1;32m    256\u001b[0m   \u001b[38;5;28;01melse\u001b[39;00m:\n\u001b[1;32m    257\u001b[0m     outputs \u001b[38;5;241m=\u001b[39m make_call_op_in_graph(\n\u001b[1;32m    258\u001b[0m         \u001b[38;5;28mself\u001b[39m,\n\u001b[1;32m    259\u001b[0m         \u001b[38;5;28mlist\u001b[39m(args),\n\u001b[1;32m    260\u001b[0m         \u001b[38;5;28mself\u001b[39m\u001b[38;5;241m.\u001b[39m_bound_context\u001b[38;5;241m.\u001b[39mfunction_call_options\u001b[38;5;241m.\u001b[39mas_attrs(),\n\u001b[1;32m    261\u001b[0m     )\n",
      "File \u001b[0;32m~/si5/conniassances/.venv/lib/python3.12/site-packages/tensorflow/python/eager/context.py:1683\u001b[0m, in \u001b[0;36mContext.call_function\u001b[0;34m(self, name, tensor_inputs, num_outputs)\u001b[0m\n\u001b[1;32m   1681\u001b[0m cancellation_context \u001b[38;5;241m=\u001b[39m cancellation\u001b[38;5;241m.\u001b[39mcontext()\n\u001b[1;32m   1682\u001b[0m \u001b[38;5;28;01mif\u001b[39;00m cancellation_context \u001b[38;5;129;01mis\u001b[39;00m \u001b[38;5;28;01mNone\u001b[39;00m:\n\u001b[0;32m-> 1683\u001b[0m   outputs \u001b[38;5;241m=\u001b[39m \u001b[43mexecute\u001b[49m\u001b[38;5;241;43m.\u001b[39;49m\u001b[43mexecute\u001b[49m\u001b[43m(\u001b[49m\n\u001b[1;32m   1684\u001b[0m \u001b[43m      \u001b[49m\u001b[43mname\u001b[49m\u001b[38;5;241;43m.\u001b[39;49m\u001b[43mdecode\u001b[49m\u001b[43m(\u001b[49m\u001b[38;5;124;43m\"\u001b[39;49m\u001b[38;5;124;43mutf-8\u001b[39;49m\u001b[38;5;124;43m\"\u001b[39;49m\u001b[43m)\u001b[49m\u001b[43m,\u001b[49m\n\u001b[1;32m   1685\u001b[0m \u001b[43m      \u001b[49m\u001b[43mnum_outputs\u001b[49m\u001b[38;5;241;43m=\u001b[39;49m\u001b[43mnum_outputs\u001b[49m\u001b[43m,\u001b[49m\n\u001b[1;32m   1686\u001b[0m \u001b[43m      \u001b[49m\u001b[43minputs\u001b[49m\u001b[38;5;241;43m=\u001b[39;49m\u001b[43mtensor_inputs\u001b[49m\u001b[43m,\u001b[49m\n\u001b[1;32m   1687\u001b[0m \u001b[43m      \u001b[49m\u001b[43mattrs\u001b[49m\u001b[38;5;241;43m=\u001b[39;49m\u001b[43mattrs\u001b[49m\u001b[43m,\u001b[49m\n\u001b[1;32m   1688\u001b[0m \u001b[43m      \u001b[49m\u001b[43mctx\u001b[49m\u001b[38;5;241;43m=\u001b[39;49m\u001b[38;5;28;43mself\u001b[39;49m\u001b[43m,\u001b[49m\n\u001b[1;32m   1689\u001b[0m \u001b[43m  \u001b[49m\u001b[43m)\u001b[49m\n\u001b[1;32m   1690\u001b[0m \u001b[38;5;28;01melse\u001b[39;00m:\n\u001b[1;32m   1691\u001b[0m   outputs \u001b[38;5;241m=\u001b[39m execute\u001b[38;5;241m.\u001b[39mexecute_with_cancellation(\n\u001b[1;32m   1692\u001b[0m       name\u001b[38;5;241m.\u001b[39mdecode(\u001b[38;5;124m\"\u001b[39m\u001b[38;5;124mutf-8\u001b[39m\u001b[38;5;124m\"\u001b[39m),\n\u001b[1;32m   1693\u001b[0m       num_outputs\u001b[38;5;241m=\u001b[39mnum_outputs,\n\u001b[0;32m   (...)\u001b[0m\n\u001b[1;32m   1697\u001b[0m       cancellation_manager\u001b[38;5;241m=\u001b[39mcancellation_context,\n\u001b[1;32m   1698\u001b[0m   )\n",
      "File \u001b[0;32m~/si5/conniassances/.venv/lib/python3.12/site-packages/tensorflow/python/eager/execute.py:53\u001b[0m, in \u001b[0;36mquick_execute\u001b[0;34m(op_name, num_outputs, inputs, attrs, ctx, name)\u001b[0m\n\u001b[1;32m     51\u001b[0m \u001b[38;5;28;01mtry\u001b[39;00m:\n\u001b[1;32m     52\u001b[0m   ctx\u001b[38;5;241m.\u001b[39mensure_initialized()\n\u001b[0;32m---> 53\u001b[0m   tensors \u001b[38;5;241m=\u001b[39m \u001b[43mpywrap_tfe\u001b[49m\u001b[38;5;241;43m.\u001b[39;49m\u001b[43mTFE_Py_Execute\u001b[49m\u001b[43m(\u001b[49m\u001b[43mctx\u001b[49m\u001b[38;5;241;43m.\u001b[39;49m\u001b[43m_handle\u001b[49m\u001b[43m,\u001b[49m\u001b[43m \u001b[49m\u001b[43mdevice_name\u001b[49m\u001b[43m,\u001b[49m\u001b[43m \u001b[49m\u001b[43mop_name\u001b[49m\u001b[43m,\u001b[49m\n\u001b[1;32m     54\u001b[0m \u001b[43m                                      \u001b[49m\u001b[43minputs\u001b[49m\u001b[43m,\u001b[49m\u001b[43m \u001b[49m\u001b[43mattrs\u001b[49m\u001b[43m,\u001b[49m\u001b[43m \u001b[49m\u001b[43mnum_outputs\u001b[49m\u001b[43m)\u001b[49m\n\u001b[1;32m     55\u001b[0m \u001b[38;5;28;01mexcept\u001b[39;00m core\u001b[38;5;241m.\u001b[39m_NotOkStatusException \u001b[38;5;28;01mas\u001b[39;00m e:\n\u001b[1;32m     56\u001b[0m   \u001b[38;5;28;01mif\u001b[39;00m name \u001b[38;5;129;01mis\u001b[39;00m \u001b[38;5;129;01mnot\u001b[39;00m \u001b[38;5;28;01mNone\u001b[39;00m:\n",
      "\u001b[0;31mKeyboardInterrupt\u001b[0m: "
     ]
    }
   ],
   "source": [
    "### décommentez la ligne suivante si vous voulez entraîner votre propre modèle\n",
    "\n",
    "history = modelX.fit(X_train, Y_train, epochs=40, batch_size=5, validation_split=0.2)"
   ]
  },
  {
   "cell_type": "markdown",
   "metadata": {
    "id": "oZsI4YTLdV3_"
   },
   "source": [
    "Au bout de nos 40 epochs, bien que le modèle semble converger, l'accuracy ne s'est pas tout à fait stabilisée. Cet indicateur nous informe sur la précision du modèle à faire de bonnes prédictions, plus on s'approche de 1, plus le modèle est performant. A chaque Epoch (itération), le modèle va (logiquement) parfaire son entrainement.\n",
    "\n",
    "Il semble que l'on puisse améliorer un peu ce résultat. Relançons l'entraînement pour 10 epoch, en affinant les hyperparamètres de l'optimizer Adamax."
   ]
  },
  {
   "cell_type": "code",
   "execution_count": null,
   "metadata": {
    "id": "d2yb8BQc9NX4"
   },
   "outputs": [],
   "source": [
    "# second entrainement en affinant les parametres \n",
    "modelX.compile(optimizer=optimizers.Adamax(learning_rate=0.0001, beta_1=0.98, beta_2=0.98), loss='categorical_crossentropy', metrics=['accuracy'])"
   ]
  },
  {
   "cell_type": "code",
   "execution_count": null,
   "metadata": {
    "id": "0VkGC7GtXtUc"
   },
   "outputs": [],
   "source": [
    "### décommentez la ligne suivante si vous voulez entraîner votre propre modèle\n",
    "\n",
    "history = modelX.fit(X_train, Y_train, epochs=10, batch_size=5, validation_split=0.2)"
   ]
  },
  {
   "cell_type": "code",
   "execution_count": null,
   "metadata": {
    "id": "QhlBA7DuJuY1"
   },
   "outputs": [],
   "source": [
    "### exectutez la ligne suivante si vous souhaitez enregistrer votre modèle personnalisé.\n",
    "\n",
    "modelX.save('My_model')"
   ]
  },
  {
   "cell_type": "markdown",
   "metadata": {
    "id": "UA7Sw0GNnojJ"
   },
   "source": [
    "Grâce au deuxième entrainement, nous parvenons à un score stable autour de  72%. Dans l'absolu, ce score peut ne pas paraître excellent, mais par rapport aux données utilisées c'est un score honorable.\n",
    "\n",
    "Vous pouvez essayer de relancer ce modèle (nous vous conseillons de le faire sur Colab ou avec un GPU) en jouant sur l'optimizer et ses hyperparamètre, ou même en modifiant le nombre de couches et de neurones par couches dans le modèle, vous obtiendrez peut-être un meilleur score que nous !"
   ]
  },
  {
   "cell_type": "markdown",
   "metadata": {
    "id": "85cZbrktdV4D"
   },
   "source": [
    "#### Validation sur la base de données de test"
   ]
  },
  {
   "cell_type": "markdown",
   "metadata": {
    "id": "rshljthloKrX"
   },
   "source": [
    "Nous allons mainteant évaluer nos résulats grâce à nos données de test. Dans la cellule suivante, nous vous proposons de charger notre modèle pré-entrainé, si vous n'avez pas exécuté les lignes précédentes. \n",
    "\n",
    "Vous pouvez également charger le modèle que vous venez d'enregistrer, soit avec les paramètres que nous avons proposé soit avec vos propres paramètres. \n",
    "\n",
    "Décommentez la ligne qui concerne le chargement que vous voulez effectuer (ou bien continuez avec le modèle que vous venez d'entraîner)."
   ]
  },
  {
   "cell_type": "code",
   "execution_count": 35,
   "metadata": {
    "id": "igy5-FSWdV4E"
   },
   "outputs": [
    {
     "ename": "AttributeError",
     "evalue": "'_UserObject' object has no attribute 'add_slot'",
     "output_type": "error",
     "traceback": [
      "\u001b[0;31m---------------------------------------------------------------------------\u001b[0m",
      "\u001b[0;31mAttributeError\u001b[0m                            Traceback (most recent call last)",
      "Cell \u001b[0;32mIn[35], line 2\u001b[0m\n\u001b[1;32m      1\u001b[0m \u001b[38;5;66;03m#### Pour charger le modèle pré-entrainé :\u001b[39;00m\n\u001b[0;32m----> 2\u001b[0m model \u001b[38;5;241m=\u001b[39m \u001b[43mtf\u001b[49m\u001b[38;5;241;43m.\u001b[39;49m\u001b[43msaved_model\u001b[49m\u001b[38;5;241;43m.\u001b[39;49m\u001b[43mload\u001b[49m\u001b[43m(\u001b[49m\u001b[38;5;124;43m\"\u001b[39;49m\u001b[38;5;124;43m./ModelX\u001b[39;49m\u001b[38;5;124;43m\"\u001b[39;49m\u001b[43m)\u001b[49m\n\u001b[1;32m      4\u001b[0m \u001b[38;5;66;03m#### OU \u001b[39;00m\n\u001b[1;32m      5\u001b[0m \u001b[38;5;66;03m#### Pour charger le modèle que vous venez d'enregistrer :\u001b[39;00m\n\u001b[1;32m      6\u001b[0m \u001b[38;5;66;03m# modelX = models.load_model('My_model') \u001b[39;00m\n",
      "File \u001b[0;32m~/si5/conniassances/.venv/lib/python3.12/site-packages/tensorflow/python/saved_model/load.py:912\u001b[0m, in \u001b[0;36mload\u001b[0;34m(export_dir, tags, options)\u001b[0m\n\u001b[1;32m    910\u001b[0m \u001b[38;5;28;01mif\u001b[39;00m \u001b[38;5;28misinstance\u001b[39m(export_dir, os\u001b[38;5;241m.\u001b[39mPathLike):\n\u001b[1;32m    911\u001b[0m   export_dir \u001b[38;5;241m=\u001b[39m os\u001b[38;5;241m.\u001b[39mfspath(export_dir)\n\u001b[0;32m--> 912\u001b[0m result \u001b[38;5;241m=\u001b[39m \u001b[43mload_partial\u001b[49m\u001b[43m(\u001b[49m\u001b[43mexport_dir\u001b[49m\u001b[43m,\u001b[49m\u001b[43m \u001b[49m\u001b[38;5;28;43;01mNone\u001b[39;49;00m\u001b[43m,\u001b[49m\u001b[43m \u001b[49m\u001b[43mtags\u001b[49m\u001b[43m,\u001b[49m\u001b[43m \u001b[49m\u001b[43moptions\u001b[49m\u001b[43m)\u001b[49m[\u001b[38;5;124m\"\u001b[39m\u001b[38;5;124mroot\u001b[39m\u001b[38;5;124m\"\u001b[39m]\n\u001b[1;32m    913\u001b[0m \u001b[38;5;28;01mreturn\u001b[39;00m result\n",
      "File \u001b[0;32m~/si5/conniassances/.venv/lib/python3.12/site-packages/tensorflow/python/saved_model/load.py:1042\u001b[0m, in \u001b[0;36mload_partial\u001b[0;34m(export_dir, filters, tags, options)\u001b[0m\n\u001b[1;32m   1040\u001b[0m \u001b[38;5;28;01mwith\u001b[39;00m ops\u001b[38;5;241m.\u001b[39minit_scope():\n\u001b[1;32m   1041\u001b[0m   \u001b[38;5;28;01mtry\u001b[39;00m:\n\u001b[0;32m-> 1042\u001b[0m     loader \u001b[38;5;241m=\u001b[39m \u001b[43mLoader\u001b[49m\u001b[43m(\u001b[49m\u001b[43mobject_graph_proto\u001b[49m\u001b[43m,\u001b[49m\u001b[43m \u001b[49m\u001b[43msaved_model_proto\u001b[49m\u001b[43m,\u001b[49m\u001b[43m \u001b[49m\u001b[43mexport_dir\u001b[49m\u001b[43m,\u001b[49m\n\u001b[1;32m   1043\u001b[0m \u001b[43m                    \u001b[49m\u001b[43mckpt_options\u001b[49m\u001b[43m,\u001b[49m\u001b[43m \u001b[49m\u001b[43moptions\u001b[49m\u001b[43m,\u001b[49m\u001b[43m \u001b[49m\u001b[43mfilters\u001b[49m\u001b[43m)\u001b[49m\n\u001b[1;32m   1044\u001b[0m   \u001b[38;5;28;01mexcept\u001b[39;00m errors\u001b[38;5;241m.\u001b[39mNotFoundError \u001b[38;5;28;01mas\u001b[39;00m err:\n\u001b[1;32m   1045\u001b[0m     \u001b[38;5;28;01mraise\u001b[39;00m \u001b[38;5;167;01mFileNotFoundError\u001b[39;00m(\n\u001b[1;32m   1046\u001b[0m         \u001b[38;5;28mstr\u001b[39m(err) \u001b[38;5;241m+\u001b[39m \u001b[38;5;124m\"\u001b[39m\u001b[38;5;130;01m\\n\u001b[39;00m\u001b[38;5;124m You may be trying to load on a different device \u001b[39m\u001b[38;5;124m\"\u001b[39m\n\u001b[1;32m   1047\u001b[0m         \u001b[38;5;124m\"\u001b[39m\u001b[38;5;124mfrom the computational device. Consider setting the \u001b[39m\u001b[38;5;124m\"\u001b[39m\n\u001b[1;32m   1048\u001b[0m         \u001b[38;5;124m\"\u001b[39m\u001b[38;5;124m`experimental_io_device` option in `tf.saved_model.LoadOptions` \u001b[39m\u001b[38;5;124m\"\u001b[39m\n\u001b[1;32m   1049\u001b[0m         \u001b[38;5;124m\"\u001b[39m\u001b[38;5;124mto the io_device such as \u001b[39m\u001b[38;5;124m'\u001b[39m\u001b[38;5;124m/job:localhost\u001b[39m\u001b[38;5;124m'\u001b[39m\u001b[38;5;124m.\u001b[39m\u001b[38;5;124m\"\u001b[39m)\n",
      "File \u001b[0;32m~/si5/conniassances/.venv/lib/python3.12/site-packages/tensorflow/python/saved_model/load.py:223\u001b[0m, in \u001b[0;36mLoader.__init__\u001b[0;34m(self, object_graph_proto, saved_model_proto, export_dir, ckpt_options, save_options, filters)\u001b[0m\n\u001b[1;32m    220\u001b[0m \u001b[38;5;66;03m# Order all nodes or filtered nodes using the dependencies.\u001b[39;00m\n\u001b[1;32m    221\u001b[0m \u001b[38;5;28mself\u001b[39m\u001b[38;5;241m.\u001b[39m_ordered_node_ids \u001b[38;5;241m=\u001b[39m \u001b[38;5;28mself\u001b[39m\u001b[38;5;241m.\u001b[39m_generate_ordered_node_ids()\n\u001b[0;32m--> 223\u001b[0m \u001b[38;5;28;43mself\u001b[39;49m\u001b[38;5;241;43m.\u001b[39;49m\u001b[43m_load_all\u001b[49m\u001b[43m(\u001b[49m\u001b[43m)\u001b[49m\n\u001b[1;32m    225\u001b[0m \u001b[38;5;28;01mif\u001b[39;00m \u001b[38;5;129;01mnot\u001b[39;00m save_options\u001b[38;5;241m.\u001b[39mexperimental_skip_checkpoint:\n\u001b[1;32m    226\u001b[0m   \u001b[38;5;28mself\u001b[39m\u001b[38;5;241m.\u001b[39m_restore_checkpoint()\n",
      "File \u001b[0;32m~/si5/conniassances/.venv/lib/python3.12/site-packages/tensorflow/python/saved_model/load.py:320\u001b[0m, in \u001b[0;36mLoader._load_all\u001b[0;34m(self)\u001b[0m\n\u001b[1;32m    318\u001b[0m \u001b[38;5;28;01mdef\u001b[39;00m \u001b[38;5;21m_load_all\u001b[39m(\u001b[38;5;28mself\u001b[39m):\n\u001b[1;32m    319\u001b[0m \u001b[38;5;250m  \u001b[39m\u001b[38;5;124;03m\"\"\"Loads all nodes and functions from the SavedModel and their edges.\"\"\"\u001b[39;00m\n\u001b[0;32m--> 320\u001b[0m   \u001b[38;5;28;43mself\u001b[39;49m\u001b[38;5;241;43m.\u001b[39;49m\u001b[43m_load_nodes\u001b[49m\u001b[43m(\u001b[49m\u001b[43m)\u001b[49m\n\u001b[1;32m    321\u001b[0m   \u001b[38;5;28mself\u001b[39m\u001b[38;5;241m.\u001b[39m_load_edges()\n\u001b[1;32m    323\u001b[0m   \u001b[38;5;66;03m# Set up concrete functions that aren't part of the object graph\u001b[39;00m\n\u001b[1;32m    324\u001b[0m   \u001b[38;5;66;03m# (e.g. gradient functions)\u001b[39;00m\n",
      "File \u001b[0;32m~/si5/conniassances/.venv/lib/python3.12/site-packages/tensorflow/python/saved_model/load.py:529\u001b[0m, in \u001b[0;36mLoader._load_nodes\u001b[0;34m(self)\u001b[0m\n\u001b[1;32m    526\u001b[0m optimizer_object \u001b[38;5;241m=\u001b[39m nodes[optimizer_node_id]\n\u001b[1;32m    527\u001b[0m optimized_variable \u001b[38;5;241m=\u001b[39m nodes[\n\u001b[1;32m    528\u001b[0m     slot_variable_proto\u001b[38;5;241m.\u001b[39moriginal_variable_node_id]\n\u001b[0;32m--> 529\u001b[0m slot_variable \u001b[38;5;241m=\u001b[39m \u001b[43moptimizer_object\u001b[49m\u001b[38;5;241;43m.\u001b[39;49m\u001b[43madd_slot\u001b[49m(\n\u001b[1;32m    530\u001b[0m     var\u001b[38;5;241m=\u001b[39moptimized_variable,\n\u001b[1;32m    531\u001b[0m     slot_name\u001b[38;5;241m=\u001b[39mslot_variable_proto\u001b[38;5;241m.\u001b[39mslot_name)\n\u001b[1;32m    532\u001b[0m nodes[slot_variable_proto\u001b[38;5;241m.\u001b[39mslot_variable_node_id] \u001b[38;5;241m=\u001b[39m slot_variable\n\u001b[1;32m    533\u001b[0m node_setters[slot_variable_proto\u001b[38;5;241m.\u001b[39mslot_variable_node_id] \u001b[38;5;241m=\u001b[39m \u001b[38;5;28msetattr\u001b[39m\n",
      "\u001b[0;31mAttributeError\u001b[0m: '_UserObject' object has no attribute 'add_slot'"
     ]
    }
   ],
   "source": [
    "\n",
    "#### Pour charger le modèle pré-entrainé :\n",
    "model = tf.saved_model.load(\"./ModelX\")\n",
    "\n",
    "#### OU \n",
    "#### Pour charger le modèle que vous venez d'enregistrer :\n",
    "# modelX = models.load_model('My_model') "
   ]
  },
  {
   "cell_type": "code",
   "execution_count": null,
   "metadata": {
    "id": "TiGbt9WrdV4F"
   },
   "outputs": [],
   "source": [
    "len(X_test)\n",
    "X_test.shape"
   ]
  },
  {
   "cell_type": "markdown",
   "metadata": {
    "id": "7HO9XCS3pUSR"
   },
   "source": [
    "Nous examinons les prédictions de notre algorithme sur les données de test, et les comparons à leur valeur réelle."
   ]
  },
  {
   "cell_type": "code",
   "execution_count": null,
   "metadata": {
    "id": "9BGTSXLNdV4N"
   },
   "outputs": [],
   "source": [
    "Y_pred = modelX.predict(X_test) # on demande à notre modèle de réaliser les prédictions sur la base de test."
   ]
  },
  {
   "cell_type": "code",
   "execution_count": null,
   "metadata": {
    "id": "H-VGG4gWdV4O"
   },
   "outputs": [],
   "source": [
    "y_pred=[]\n",
    "for y in Y_pred:\n",
    "    y_pred.append(np.argmax(y))\n",
    "# on décode les prédictions, afin de passer du format Y=[0,0,1,0] au format y=2, à l'inverse ce qu'on a fait plus haut. "
   ]
  },
  {
   "cell_type": "markdown",
   "metadata": {
    "id": "NbYMS57UpqwT"
   },
   "source": [
    "L'utilisation d'une matrice de confusion nous montrera _où_ l'algorithme se \"trompe\". \n",
    "\n",
    "Dans l'idéal, toutes les valeurs devraient être sur la diagonale haut-gauche / bas-droite. Les valeurs qui se situent sur cette diagonale sont les images correctement identifiées. \n",
    "Les autres sont mal identifiées : les valeurs réelles se situent sur l'axe des ordonnées, et les valeurs prédites sur les abscisses."
   ]
  },
  {
   "cell_type": "code",
   "execution_count": null,
   "metadata": {
    "id": "WD5dN92YdV4P",
    "scrolled": true
   },
   "outputs": [],
   "source": [
    "cf_matrix = confusion_matrix(y_test, y_pred) \n",
    "# le module metrics.confusion_matrix est disponible dans la bibliothèque scikit-learn"
   ]
  },
  {
   "cell_type": "code",
   "execution_count": null,
   "metadata": {
    "id": "YinsTYcKQbLs"
   },
   "outputs": [],
   "source": [
    "plt.figure(figsize=(6,6))\n",
    "plt.imshow(cf_matrix, cmap=\"Purples\")\n",
    "for (i, j), z in np.ndenumerate(cf_matrix):\n",
    "    plt.text(j, i, z, ha='center', va='center', bbox=dict(boxstyle='round', facecolor='white', edgecolor='0.3'))\n",
    "plt.xlabel(\"valeurs prédites\")\n",
    "plt.xticks(ticks =[i for i in range(4)], labels=[LABELS[i] for i in range(4)])\n",
    "plt.ylabel(\"valeurs réelles\")\n",
    "plt.yticks(ticks =[i for i in range(4)], labels=[LABELS[i] for i in range(4)])\n",
    "plt.show()"
   ]
  },
  {
   "cell_type": "markdown",
   "metadata": {
    "id": "Ru3V3rZbdV4R"
   },
   "source": [
    "### <a id='5'>Résultats</a>\n",
    "\n",
    "La matrice de confusion nous montre que le modèle semble avoir plus de mal à reconnaître certains sentiments que d'autres. \n",
    "\n",
    "Si l'on regarde les images de la colère, par exemple : un peu plus de la moitié d'entre elles ont dû être correctement identifiées, mais presque toutes les autres ont probablement été prises pour des expressions de la tristesse. Il y a d'ailleurs aussi beaucoup de mauvaises interprétations du sentiment de tristesse. \n",
    "\n",
    "Pas terrible... Qu'en pensez-vous ? \n",
    "Maintenant, allez regarder les images du dataset : à l'oeil nu, auriez-vous pu faire mieux ? ;)\n",
    "\n",
    "Car en effet, une bonne part de la réussite d'un modèle d'intelligence artificielle réside dans la collecte et la préparation des données. La recherche des paramètres optimaux (nombre de couches de convolution, optimisateur utilisé, taux d'apprentissage, fonction de perte, etc.) ne fait pas tout. Il faut d'abord réunir un dataset cohérent, correctement labellisé et préparé, avant d'entreprendre toute tâche de machine-learning ou de deep_learning."
   ]
  }
 ],
 "metadata": {
  "accelerator": "GPU",
  "colab": {
   "collapsed_sections": [],
   "include_colab_link": true,
   "name": "Tuto_Emotions_Part1.ipynb",
   "provenance": []
  },
  "kernelspec": {
   "display_name": ".venv",
   "language": "python",
   "name": "python3"
  },
  "language_info": {
   "codemirror_mode": {
    "name": "ipython",
    "version": 3
   },
   "file_extension": ".py",
   "mimetype": "text/x-python",
   "name": "python",
   "nbconvert_exporter": "python",
   "pygments_lexer": "ipython3",
   "version": "3.12.3"
  }
 },
 "nbformat": 4,
 "nbformat_minor": 0
}
